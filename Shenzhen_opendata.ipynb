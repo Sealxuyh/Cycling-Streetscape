{
 "cells": [
  {
   "cell_type": "code",
   "execution_count": 3,
   "id": "b835c10c",
   "metadata": {},
   "outputs": [],
   "source": [
    "import requests\n",
    "import json\n",
    "import pandas as pd\n",
    "import pymysql\n",
    "from sqlalchemy import create_engine\n",
    "import json\n",
    "import csv\n",
    "import scipy.io as sio\n",
    "import os"
   ]
  },
  {
   "cell_type": "code",
   "execution_count": 1,
   "id": "5d474630",
   "metadata": {},
   "outputs": [],
   "source": [
    "import requests\n",
    "import pandas as pd\n",
    "import json\n",
    "\n",
    "# Base URL components\n",
    "url_base = 'https://opendata.sz.gov.cn/api/29200_00403589/1/service.xhtml?page='\n",
    "app_key = 'YOUR_APP_KEY'  # Replace with your actual app key, avoid hard-coding sensitive information\n",
    "\n",
    "# Initialize an empty DataFrame to append data for each page\n",
    "df_append = pd.DataFrame()\n",
    "\n",
    "# Loop over pages\n",
    "for page in range(2):\n",
    "    # Print progress every 50 pages\n",
    "    if page % 50 == 0:\n",
    "        print(f\"Processing page: {page}\")\n",
    "    \n",
    "    # Construct the request URL\n",
    "    url = f\"{url_base}{page}&rows=10000&appKey={app_key}\"\n",
    "    \n",
    "    # Fetch and parse JSON data\n",
    "    response = requests.get(url)\n",
    "    json_data = response.text\n",
    "    dic_raw = json.loads(json_data)\n",
    "    \n",
    "    # Check and display the data type and data length for debugging\n",
    "    print(type(dic_raw))\n",
    "    if 'data' in dic_raw:\n",
    "        print(f\"Data length: {len(dic_raw['data'])}\")\n",
    "    else:\n",
    "        print(\"No data found in the response\")\n",
    "        continue  # Skip to the next iteration if no data is found\n",
    "\n",
    "    # Create DataFrame for the current page data\n",
    "    df = pd.DataFrame()\n",
    "\n",
    "    # Populate DataFrame with relevant fields\n",
    "    for i, data_entry in enumerate(dic_raw['data']):\n",
    "        try:\n",
    "            df.loc[i, 'GOLEN'] = data_entry.get('GOLEN')\n",
    "            df.loc[i, 'SPEED'] = data_entry.get('SPEED')\n",
    "            df.loc[i, 'TIME1'] = data_entry.get('TIME1')\n",
    "            df.loc[i, 'PERIOD'] = data_entry.get('PERIOD')\n",
    "            df.loc[i, 'EXPONENT'] = data_entry.get('EXPONENT')\n",
    "            df.loc[i, 'BLOCKID'] = data_entry.get('BLOCKID')\n",
    "            df.loc[i, 'GOTIME'] = data_entry.get('GOTIME')\n",
    "        except KeyError as e:\n",
    "            print(f\"Missing field {e} on page {page}, entry {i}\")\n",
    "            continue  # Skip this entry if any field is missing\n",
    "    \n",
    "    # Append page data to cumulative DataFrame and save incrementally\n",
    "    df_append = df_append.append(df, ignore_index=True)\n",
    "    df_append.to_csv('test.csv', mode='a', header=False, index=False)\n",
    "    \n",
    "    # Clear df_append for the next batch if necessary (to save memory)\n",
    "    df_append.drop(df_append.index, inplace=True)"
   ]
  },
  {
   "cell_type": "code",
   "execution_count": null,
   "id": "0f84b245",
   "metadata": {},
   "outputs": [],
   "source": []
  }
 ],
 "metadata": {
  "kernelspec": {
   "display_name": "Python 3 (ipykernel)",
   "language": "python",
   "name": "python3"
  },
  "language_info": {
   "codemirror_mode": {
    "name": "ipython",
    "version": 3
   },
   "file_extension": ".py",
   "mimetype": "text/x-python",
   "name": "python",
   "nbconvert_exporter": "python",
   "pygments_lexer": "ipython3",
   "version": "3.8.0"
  }
 },
 "nbformat": 4,
 "nbformat_minor": 5
}
